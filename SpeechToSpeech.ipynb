{
  "nbformat": 4,
  "nbformat_minor": 0,
  "metadata": {
    "colab": {
      "name": "SpeechToSpeech.ipynb",
      "provenance": [],
      "collapsed_sections": [],
      "authorship_tag": "ABX9TyPW9XBYoO3lsY9mcY9oW2hj",
      "include_colab_link": true
    },
    "kernelspec": {
      "name": "python3",
      "display_name": "Python 3"
    },
    "language_info": {
      "name": "python"
    }
  },
  "cells": [
    {
      "cell_type": "markdown",
      "metadata": {
        "id": "view-in-github",
        "colab_type": "text"
      },
      "source": [
        "<a href=\"https://colab.research.google.com/github/yasntrk/IBM_SpeechToSpeech/blob/master/SpeechToSpeech.ipynb\" target=\"_parent\"><img src=\"https://colab.research.google.com/assets/colab-badge.svg\" alt=\"Open In Colab\"/></a>"
      ]
    },
    {
      "cell_type": "markdown",
      "metadata": {
        "id": "DI8ZiEXxfe_y"
      },
      "source": [
        "# Libraries"
      ]
    },
    {
      "cell_type": "code",
      "metadata": {
        "id": "0ipd7JPl__Sd"
      },
      "source": [
        "!pip install ibm_watson"
      ],
      "execution_count": null,
      "outputs": []
    },
    {
      "cell_type": "code",
      "metadata": {
        "id": "UMaoCxHjAp21"
      },
      "source": [
        "pip install wavio"
      ],
      "execution_count": null,
      "outputs": []
    },
    {
      "cell_type": "code",
      "metadata": {
        "id": "l9HjKQHxCuWQ"
      },
      "source": [
        "pip install pydub"
      ],
      "execution_count": null,
      "outputs": []
    },
    {
      "cell_type": "code",
      "metadata": {
        "id": "xLyuGY0EFYDO"
      },
      "source": [
        "pip install playsound"
      ],
      "execution_count": null,
      "outputs": []
    },
    {
      "cell_type": "code",
      "metadata": {
        "id": "RnRn4ArBGFFr"
      },
      "source": [
        "!pip install ffmpeg-python"
      ],
      "execution_count": null,
      "outputs": []
    },
    {
      "cell_type": "code",
      "metadata": {
        "id": "4Na26EEfVwvz"
      },
      "source": [
        "from ibm_watson import SpeechToTextV1, LanguageTranslatorV3\n",
        "from ibm_cloud_sdk_core.authenticators import IAMAuthenticator\n",
        "import os \n",
        "import wavio as wv\n",
        "from pydub import AudioSegment\n",
        "from pydub import AudioSegment\n",
        "from pydub.playback import play\n",
        "from playsound import playsound\n",
        "from IPython.display import Audio\n",
        "from IPython.display import HTML, Audio\n",
        "from google.colab.output import eval_js\n",
        "from base64 import b64decode\n",
        "import numpy as np\n",
        "from scipy.io.wavfile import read as wav_read\n",
        "import io\n",
        "import ffmpeg\n"
      ],
      "execution_count": null,
      "outputs": []
    },
    {
      "cell_type": "markdown",
      "metadata": {
        "id": "20JT5fz3for3"
      },
      "source": [
        "# API Keys"
      ]
    },
    {
      "cell_type": "code",
      "metadata": {
        "id": "NkM-BXD_r1sn"
      },
      "source": [
        "ltapikey = \"xx\"\n",
        "lturl = \"xx\"\n",
        "\n",
        "sttapikey = 'xx'\n",
        "stturl = 'xx'\n",
        "\n",
        "txtsp = \"xx\"\n",
        "txturl = \"xx\""
      ],
      "execution_count": null,
      "outputs": []
    },
    {
      "cell_type": "markdown",
      "metadata": {
        "id": "x4yRNfCZGI5D"
      },
      "source": [
        "# Voice Record and Converting"
      ]
    },
    {
      "cell_type": "code",
      "metadata": {
        "id": "k0VmA0RL_gmK"
      },
      "source": [
        "\n",
        "AUDIO_HTML = \"\"\"\n",
        "<script>\n",
        "var my_div = document.createElement(\"DIV\");\n",
        "var my_btn = document.createElement(\"BUTTON\");\n",
        "var t = document.createTextNode(\"Press to start recording\");\n",
        "\n",
        "my_btn.appendChild(t);\n",
        "my_div.appendChild(my_btn);\n",
        "document.body.appendChild(my_div);\n",
        "\n",
        "var base64data = 0;\n",
        "var reader;\n",
        "var recorder, gumStream;\n",
        "var recordButton = my_btn;\n",
        "\n",
        "var handleSuccess = function(stream) {\n",
        "  gumStream = stream;\n",
        "  var options = {\n",
        "    //bitsPerSecond: 8000, //chrome seems to ignore, always 48k\n",
        "    mimeType : 'audio/webm;codecs=opus'\n",
        "    //mimeType : 'audio/webm;codecs=pcm'\n",
        "  };            \n",
        "  recorder = new MediaRecorder(stream);\n",
        "  recorder.ondataavailable = function(e) {            \n",
        "    var url = URL.createObjectURL(e.data);\n",
        "    var preview = document.createElement('audio');\n",
        "    preview.controls = true;\n",
        "    preview.src = url;\n",
        "    document.body.appendChild(preview);\n",
        "\n",
        "    reader = new FileReader();\n",
        "    reader.readAsDataURL(e.data); \n",
        "    reader.onloadend = function() {\n",
        "      base64data = reader.result;\n",
        "    }\n",
        "  };\n",
        "  recorder.start();\n",
        "  };\n",
        "\n",
        "recordButton.innerText = \"Recording... press to stop\";\n",
        "\n",
        "navigator.mediaDevices.getUserMedia({audio: true}).then(handleSuccess);\n",
        "\n",
        "\n",
        "function toggleRecording() {\n",
        "  if (recorder && recorder.state == \"recording\") {\n",
        "      recorder.stop();\n",
        "      gumStream.getAudioTracks()[0].stop();\n",
        "      recordButton.innerText = \"Saving the recording... pls wait!\"\n",
        "  }\n",
        "}\n",
        "\n",
        "// https://stackoverflow.com/a/951057\n",
        "function sleep(ms) {\n",
        "  return new Promise(resolve => setTimeout(resolve, ms));\n",
        "}\n",
        "\n",
        "var data = new Promise(resolve=>{\n",
        "recordButton.onclick = ()=>{\n",
        "toggleRecording()\n",
        "\n",
        "sleep(2000).then(() => {\n",
        "  // wait 2000ms for the data to be available...\n",
        "  // ideally this should use something like await...\n",
        "  resolve(base64data.toString())\n",
        "\n",
        "});\n",
        "\n",
        "}\n",
        "});\n",
        "      \n",
        "</script>\n",
        "\"\"\"\n",
        "\n",
        "def get_audio():\n",
        "  display(HTML(AUDIO_HTML))\n",
        "  data = eval_js(\"data\")\n",
        "  binary = b64decode(data.split(',')[1])\n",
        "  \n",
        "  process = (ffmpeg\n",
        "    .input('pipe:0')\n",
        "    .output('pipe:1', format='wav')\n",
        "    .run_async(pipe_stdin=True, pipe_stdout=True, pipe_stderr=True, quiet=True, overwrite_output=True)\n",
        "  )\n",
        "  output, err = process.communicate(input=binary)\n",
        "  \n",
        "  riff_chunk_size = len(output) - 8\n",
        "  # Break up the chunk size into four bytes, held in b.\n",
        "  q = riff_chunk_size\n",
        "  b = []\n",
        "  for i in range(4):\n",
        "      q, r = divmod(q, 256)\n",
        "      b.append(r)\n",
        "\n",
        "  # Replace bytes 4:8 in proc.stdout with the actual size of the RIFF chunk.\n",
        "  riff = output[:4] + bytes(b) + output[8:]\n",
        "\n",
        "  sr, audio = wav_read(io.BytesIO(riff))\n",
        "\n",
        "  return audio, sr"
      ],
      "execution_count": null,
      "outputs": []
    },
    {
      "cell_type": "code",
      "metadata": {
        "colab": {
          "base_uri": "https://localhost:8080/",
          "height": 96
        },
        "id": "MwOT5nCA_qEd",
        "outputId": "dc7c9f26-7536-4a12-cbb1-81a53ff52b41"
      },
      "source": [
        "audio, sr = get_audio()"
      ],
      "execution_count": null,
      "outputs": [
        {
          "output_type": "display_data",
          "data": {
            "text/html": [
              "\n",
              "<script>\n",
              "var my_div = document.createElement(\"DIV\");\n",
              "var my_btn = document.createElement(\"BUTTON\");\n",
              "var t = document.createTextNode(\"Press to start recording\");\n",
              "\n",
              "my_btn.appendChild(t);\n",
              "my_div.appendChild(my_btn);\n",
              "document.body.appendChild(my_div);\n",
              "\n",
              "var base64data = 0;\n",
              "var reader;\n",
              "var recorder, gumStream;\n",
              "var recordButton = my_btn;\n",
              "\n",
              "var handleSuccess = function(stream) {\n",
              "  gumStream = stream;\n",
              "  var options = {\n",
              "    //bitsPerSecond: 8000, //chrome seems to ignore, always 48k\n",
              "    mimeType : 'audio/webm;codecs=opus'\n",
              "    //mimeType : 'audio/webm;codecs=pcm'\n",
              "  };            \n",
              "  recorder = new MediaRecorder(stream);\n",
              "  recorder.ondataavailable = function(e) {            \n",
              "    var url = URL.createObjectURL(e.data);\n",
              "    var preview = document.createElement('audio');\n",
              "    preview.controls = true;\n",
              "    preview.src = url;\n",
              "    document.body.appendChild(preview);\n",
              "\n",
              "    reader = new FileReader();\n",
              "    reader.readAsDataURL(e.data); \n",
              "    reader.onloadend = function() {\n",
              "      base64data = reader.result;\n",
              "    }\n",
              "  };\n",
              "  recorder.start();\n",
              "  };\n",
              "\n",
              "recordButton.innerText = \"Recording... press to stop\";\n",
              "\n",
              "navigator.mediaDevices.getUserMedia({audio: true}).then(handleSuccess);\n",
              "\n",
              "\n",
              "function toggleRecording() {\n",
              "  if (recorder && recorder.state == \"recording\") {\n",
              "      recorder.stop();\n",
              "      gumStream.getAudioTracks()[0].stop();\n",
              "      recordButton.innerText = \"Saving the recording... pls wait!\"\n",
              "  }\n",
              "}\n",
              "\n",
              "// https://stackoverflow.com/a/951057\n",
              "function sleep(ms) {\n",
              "  return new Promise(resolve => setTimeout(resolve, ms));\n",
              "}\n",
              "\n",
              "var data = new Promise(resolve=>{\n",
              "recordButton.onclick = ()=>{\n",
              "toggleRecording()\n",
              "\n",
              "sleep(2000).then(() => {\n",
              "  // wait 2000ms for the data to be available...\n",
              "  // ideally this should use something like await...\n",
              "  resolve(base64data.toString())\n",
              "\n",
              "});\n",
              "\n",
              "}\n",
              "});\n",
              "      \n",
              "</script>\n"
            ],
            "text/plain": [
              "<IPython.core.display.HTML object>"
            ]
          },
          "metadata": {
            "tags": []
          }
        }
      ]
    },
    {
      "cell_type": "code",
      "metadata": {
        "colab": {
          "base_uri": "https://localhost:8080/",
          "height": 35
        },
        "id": "9at9QAkB_0Wj",
        "outputId": "bfd9a3a1-e10b-4594-e6f6-e6ecdbf80a11"
      },
      "source": [
        "sound_name = \"Hey.wav\"\n",
        "wv.write(sound_name, audio, 44100, sampwidth=2)\n",
        "os.path.join(\"/content\", sound_name)"
      ],
      "execution_count": null,
      "outputs": [
        {
          "output_type": "execute_result",
          "data": {
            "application/vnd.google.colaboratory.intrinsic+json": {
              "type": "string"
            },
            "text/plain": [
              "'/content/Hey.wav'"
            ]
          },
          "metadata": {
            "tags": []
          },
          "execution_count": 10
        }
      ]
    },
    {
      "cell_type": "markdown",
      "metadata": {
        "id": "JTqBedAcfs-q"
      },
      "source": [
        "# Speech To Text"
      ]
    },
    {
      "cell_type": "code",
      "metadata": {
        "id": "jj0hBQ16sOiV"
      },
      "source": [
        "ltauthenticator = IAMAuthenticator(ltapikey)\n",
        "lt = LanguageTranslatorV3(version='2018-05-01', authenticator=ltauthenticator)\n",
        "lt.set_service_url(lturl)"
      ],
      "execution_count": null,
      "outputs": []
    },
    {
      "cell_type": "code",
      "metadata": {
        "id": "TsimDF1mv4u4"
      },
      "source": [
        "sttauthenticator = IAMAuthenticator(sttapikey)\n",
        "stt = SpeechToTextV1(authenticator=sttauthenticator)\n",
        "stt.set_service_url(stturl)"
      ],
      "execution_count": null,
      "outputs": []
    },
    {
      "cell_type": "code",
      "metadata": {
        "colab": {
          "base_uri": "https://localhost:8080/"
        },
        "id": "8zshVl1uCZ-e",
        "outputId": "3a4ae400-ca2a-4882-e729-2a7124a7aad7"
      },
      "source": [
        "AudioSegment.from_wav(\"Hey.wav\").export(\"Heyo.mp3\", format=\"mp3\")"
      ],
      "execution_count": null,
      "outputs": [
        {
          "output_type": "execute_result",
          "data": {
            "text/plain": [
              "<_io.BufferedRandom name='Heyo.mp3'>"
            ]
          },
          "metadata": {
            "tags": []
          },
          "execution_count": 13
        }
      ]
    },
    {
      "cell_type": "code",
      "metadata": {
        "id": "-TotEqSus2zN"
      },
      "source": [
        "with open(\"Heyo.mp3\", 'rb') as f:\n",
        "    res = stt.recognize(audio=f, content_type='audio/mp3', model='en-US_NarrowbandModel', continuous=True).get_result()"
      ],
      "execution_count": null,
      "outputs": []
    },
    {
      "cell_type": "code",
      "metadata": {
        "colab": {
          "base_uri": "https://localhost:8080/"
        },
        "id": "1KXfU77TEmtw",
        "outputId": "19c24a25-63e8-4d76-caef-d6cb715a16b1"
      },
      "source": [
        "res"
      ],
      "execution_count": null,
      "outputs": [
        {
          "output_type": "execute_result",
          "data": {
            "text/plain": [
              "{'result_index': 0,\n",
              " 'results': [{'alternatives': [{'confidence': 0.85,\n",
              "     'transcript': \"hi how are you I hope you're doing good I miss you please come back later \"}],\n",
              "   'final': True}]}"
            ]
          },
          "metadata": {
            "tags": []
          },
          "execution_count": 15
        }
      ]
    },
    {
      "cell_type": "code",
      "metadata": {
        "colab": {
          "base_uri": "https://localhost:8080/",
          "height": 35
        },
        "id": "2xUnS5Ey6QvU",
        "outputId": "05e5dc4a-f0e7-43dd-8b61-cc490666184d"
      },
      "source": [
        "voicetext = res['results'][0]['alternatives'][0]['transcript']\n",
        "voicetext"
      ],
      "execution_count": null,
      "outputs": [
        {
          "output_type": "execute_result",
          "data": {
            "application/vnd.google.colaboratory.intrinsic+json": {
              "type": "string"
            },
            "text/plain": [
              "\"hi how are you I hope you're doing good I miss you please come back later \""
            ]
          },
          "metadata": {
            "tags": []
          },
          "execution_count": 16
        }
      ]
    },
    {
      "cell_type": "code",
      "metadata": {
        "id": "1jOVrLHzsTaH"
      },
      "source": [
        "german = 'en-de'"
      ],
      "execution_count": null,
      "outputs": []
    },
    {
      "cell_type": "code",
      "metadata": {
        "id": "GLLS5yW_FVHW",
        "colab": {
          "base_uri": "https://localhost:8080/",
          "height": 35
        },
        "outputId": "f8bb8cdf-b03e-4728-d602-3e837069e750"
      },
      "source": [
        "translation = lt.translate(text=voicetext, model_id=german).get_result()\n",
        "translatedtext = translation['translations'][0]['translation']\n",
        "translatedtext"
      ],
      "execution_count": null,
      "outputs": [
        {
          "output_type": "execute_result",
          "data": {
            "application/vnd.google.colaboratory.intrinsic+json": {
              "type": "string"
            },
            "text/plain": [
              "'hi wie bist du ich hoffe ihr tut gut ich vermisse sie bitte kommen später '"
            ]
          },
          "metadata": {
            "tags": []
          },
          "execution_count": 18
        }
      ]
    },
    {
      "cell_type": "code",
      "metadata": {
        "id": "l24DE7dFeQEd"
      },
      "source": [
        "file = open(\"translated.txt\", \"w\") \n",
        "file.write(translatedtext) \n",
        "file.close() "
      ],
      "execution_count": null,
      "outputs": []
    },
    {
      "cell_type": "code",
      "metadata": {
        "id": "G8-08bl6M5mQ"
      },
      "source": [
        "with open('translated.txt', 'r') as f:\n",
        "    text = f.readlines()"
      ],
      "execution_count": null,
      "outputs": []
    },
    {
      "cell_type": "code",
      "metadata": {
        "id": "lEn30PkZf3Lp"
      },
      "source": [
        "text = [line.replace('\\n','') for line in text]"
      ],
      "execution_count": null,
      "outputs": []
    },
    {
      "cell_type": "code",
      "metadata": {
        "id": "wzkQvRFGf6Ti"
      },
      "source": [
        "text = ''.join(str(line) for line in text)"
      ],
      "execution_count": null,
      "outputs": []
    },
    {
      "cell_type": "markdown",
      "metadata": {
        "id": "1x6S8WK-ggBi"
      },
      "source": [
        "# Text To Speech\n"
      ]
    },
    {
      "cell_type": "code",
      "metadata": {
        "id": "WfutbC0pgjRn"
      },
      "source": [
        "from ibm_watson import TextToSpeechV1"
      ],
      "execution_count": null,
      "outputs": []
    },
    {
      "cell_type": "code",
      "metadata": {
        "id": "cYr0FZMigxBO"
      },
      "source": [
        "# Setup Service\n",
        "authenticator = IAMAuthenticator(txtsp)\n",
        "tts = TextToSpeechV1(authenticator=authenticator)\n",
        "tts.set_service_url(txturl)"
      ],
      "execution_count": null,
      "outputs": []
    },
    {
      "cell_type": "code",
      "metadata": {
        "id": "5mmrQLzlg2CT"
      },
      "source": [
        "with open('./translated_voice.mp3', 'wb') as audio_file:\n",
        "    res = tts.synthesize(text, accept='audio/mp3', voice=\"de-DE_BirgitV3Voice\").get_result()\n",
        "    audio_file.write(res.content)"
      ],
      "execution_count": null,
      "outputs": []
    },
    {
      "cell_type": "code",
      "metadata": {
        "id": "39CZv3LPhc9G"
      },
      "source": [
        "with open('result.txt', 'w') as f:\n",
        "    f.write(translatedtext)"
      ],
      "execution_count": null,
      "outputs": []
    },
    {
      "cell_type": "code",
      "metadata": {
        "colab": {
          "base_uri": "https://localhost:8080/"
        },
        "id": "QAxzIQnnjQgX",
        "outputId": "744fad9a-a36e-40c6-e65b-41c9c6fd73e9"
      },
      "source": [
        "translated_file = open(\"translated.txt\", \"r\") \n",
        "translated_file"
      ],
      "execution_count": null,
      "outputs": [
        {
          "output_type": "execute_result",
          "data": {
            "text/plain": [
              "<_io.TextIOWrapper name='translated.txt' mode='r' encoding='UTF-8'>"
            ]
          },
          "metadata": {
            "tags": []
          },
          "execution_count": 27
        }
      ]
    },
    {
      "cell_type": "code",
      "metadata": {
        "id": "HeqhMulW9ZeB",
        "colab": {
          "base_uri": "https://localhost:8080/",
          "height": 35
        },
        "outputId": "03230b0d-ac46-4d76-dcd7-ccb78c227a1c"
      },
      "source": [
        "translated_file.read()"
      ],
      "execution_count": null,
      "outputs": [
        {
          "output_type": "execute_result",
          "data": {
            "application/vnd.google.colaboratory.intrinsic+json": {
              "type": "string"
            },
            "text/plain": [
              "'hi wie bist du ich hoffe ihr tut gut ich vermisse sie bitte kommen später '"
            ]
          },
          "metadata": {
            "tags": []
          },
          "execution_count": 28
        }
      ]
    },
    {
      "cell_type": "code",
      "metadata": {
        "colab": {
          "base_uri": "https://localhost:8080/",
          "height": 75
        },
        "id": "hrdBQmTpDsQ5",
        "outputId": "6f4f9da7-c5a2-42e4-b7d1-11ff9edb4713"
      },
      "source": [
        "Audio(\"/content/translated_voice.mp3\",rate=44100)"
      ],
      "execution_count": null,
      "outputs": [
        {
          "output_type": "execute_result",
          "data": {
            "text/html": [
              "\n",
              "                <audio controls=\"controls\" >\n",
              "                    <source src=\"data:audio/mpeg;base64,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\" type=\"audio/mpeg\" />\n",
              "                    Your browser does not support the audio element.\n",
              "                </audio>\n",
              "              "
            ],
            "text/plain": [
              "<IPython.lib.display.Audio object>"
            ]
          },
          "metadata": {
            "tags": []
          },
          "execution_count": 29
        }
      ]
    }
  ]
}